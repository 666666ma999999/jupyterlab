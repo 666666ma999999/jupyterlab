{
 "cells": [
  {
   "cell_type": "code",
   "execution_count": 2,
   "id": "d9cf26c7-be81-49e0-bc97-cc1dd4ebb28e",
   "metadata": {
    "tags": []
   },
   "outputs": [
    {
     "name": "stdout",
     "output_type": "stream",
     "text": [
      "pandas\n"
     ]
    }
   ],
   "source": [
    "import pandas\n",
    "print('pandas')"
   ]
  },
  {
   "cell_type": "code",
   "execution_count": null,
   "id": "5f18558f-30f2-4239-9966-bd231e09ba7b",
   "metadata": {},
   "outputs": [],
   "source": []
  }
 ],
 "metadata": {
  "kernelspec": {
   "display_name": "Python 3 (ipykernel)",
   "language": "python",
   "name": "python3"
  },
  "language_info": {
   "codemirror_mode": {
    "name": "ipython",
    "version": 3
   },
   "file_extension": ".py",
   "mimetype": "text/x-python",
   "name": "python",
   "nbconvert_exporter": "python",
   "pygments_lexer": "ipython3",
   "version": "3.11.3"
  }
 },
 "nbformat": 4,
 "nbformat_minor": 5
}
